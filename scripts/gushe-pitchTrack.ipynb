{
 "cells": [
  {
   "cell_type": "markdown",
   "metadata": {},
   "source": [
    "# Generating pitch tracks for the Guše visualizer"
   ]
  },
  {
   "cell_type": "code",
   "execution_count": null,
   "metadata": {},
   "outputs": [],
   "source": [
    "import json\n",
    "import os\n",
    "import numpy as np\n",
    "import os\n",
    "import matplotlib.pyplot as plt"
   ]
  },
  {
   "cell_type": "code",
   "execution_count": null,
   "metadata": {},
   "outputs": [],
   "source": [
    "folderName = '../files/pitchTracks/'\n",
    "mbid = '66a75b20-87a4-4ee8-b1b5-5d1d96749db5'\n",
    "pitchTrackExtension = '.f0_fil.csv'\n",
    "fileName = mbid + pitchTrackExtension\n",
    "\n",
    "dur = 56\n",
    "shahed = 227.61\n",
    "\n",
    "filePath = os.path.join(folderName, fileName)\n",
    "print(filePath)"
   ]
  },
  {
   "cell_type": "markdown",
   "metadata": {},
   "source": [
    "### From Hz to cents"
   ]
  },
  {
   "cell_type": "code",
   "execution_count": null,
   "metadata": {},
   "outputs": [],
   "source": [
    "def h2c(t, h):\n",
    "    return np.rint(1200 * np.log2(h/t))"
   ]
  },
  {
   "cell_type": "code",
   "execution_count": null,
   "metadata": {},
   "outputs": [],
   "source": [
    "# Load csv\n",
    "pitchTrackHz = np.genfromtxt(filePath, delimiter=\",\")\n",
    "pitchTrackHz"
   ]
  },
  {
   "cell_type": "code",
   "execution_count": null,
   "metadata": {},
   "outputs": [],
   "source": [
    "maxCent = h2c(shahed, np.max(pitchTrackHz[:,1]))\n",
    "print(\"Max:\", maxCent)\n",
    "\n",
    "minCent = h2c(shahed, np.min(pitchTrackHz[:,1]))\n",
    "print(\"Min:\", minCent)"
   ]
  },
  {
   "cell_type": "code",
   "execution_count": null,
   "metadata": {},
   "outputs": [],
   "source": [
    "maxCent = 500\n",
    "# minCent = -722\n",
    "\n",
    "minCut = True"
   ]
  },
  {
   "cell_type": "code",
   "execution_count": null,
   "metadata": {},
   "outputs": [],
   "source": [
    "# Prepare dic\n",
    "pitchTrackDic = {}\n",
    "\n",
    "for frame in pitchTrackHz:\n",
    "    pitchTrackDic[\"{:.2f}\".format(frame[0])] = frame[1]"
   ]
  },
  {
   "cell_type": "code",
   "execution_count": null,
   "metadata": {},
   "outputs": [],
   "source": [
    "# Find duration\n",
    "\n",
    "if pitchTrackHz[-1,0] > dur:\n",
    "    dur = pitchTrackHz[-1,0]\n",
    "\n",
    "dur"
   ]
  },
  {
   "cell_type": "code",
   "execution_count": null,
   "metadata": {},
   "outputs": [],
   "source": [
    "# Cent pitch track\n",
    "\n",
    "pitchTrackCents = {}\n",
    "\n",
    "for i in range(dur * 100):\n",
    "    k = \"{:.2f}\".format(i/100)\n",
    "    if k not in pitchTrackDic.keys():\n",
    "        pitchTrackCents[k] = \"s\"\n",
    "    else:\n",
    "        c = h2c(shahed, pitchTrackDic[k])\n",
    "        if minCut:\n",
    "            if c >= minCent and c <= maxCent:\n",
    "                pitchTrackCents[k] = c\n",
    "        else:\n",
    "            pitchTrackCents[k] = c\n",
    "\n",
    "pitchTrackCents"
   ]
  },
  {
   "cell_type": "code",
   "execution_count": null,
   "metadata": {},
   "outputs": [],
   "source": [
    "with open(folderName + mbid + \"_pitchTrack.json\", 'w') as f:\n",
    "    json.dump(pitchTrackCents, f)"
   ]
  },
  {
   "cell_type": "code",
   "execution_count": null,
   "metadata": {},
   "outputs": [],
   "source": [
    "x = 0\n",
    "y = 0\n",
    "for k in pitchTrackCents.keys():\n",
    "    if pitchTrackCents[k] != 's' and pitchTrackCents[k] > x:\n",
    "        x = pitchTrackCents[k]\n",
    "    if pitchTrackCents[k] != 's' and pitchTrackCents[k] < y:\n",
    "        y = pitchTrackCents[k]\n",
    "print(y, x)"
   ]
  },
  {
   "cell_type": "markdown",
   "metadata": {},
   "source": [
    "### Pitch histogram"
   ]
  },
  {
   "cell_type": "code",
   "execution_count": null,
   "metadata": {},
   "outputs": [],
   "source": [
    "import intonation\n",
    "import numpy as np\n",
    "import json\n",
    "import os"
   ]
  },
  {
   "cell_type": "code",
   "execution_count": null,
   "metadata": {},
   "outputs": [],
   "source": [
    "def pitch2cents(pitch, ref):\n",
    "    '''\n",
    "    Converts a pitch track in Hz to cents given a reference pitch\n",
    "    \n",
    "    Args:\n",
    "        pitch (np.array): a numpy array with two columns, first for time,\n",
    "                          second for pitch\n",
    "        ref (float): the reference pitch\n",
    "    \n",
    "    Returns:\n",
    "        cents (np.array) a numpy array with one column of pitch in cents\n",
    "    '''\n",
    "\n",
    "    return 1200 * np.log2(pitch[:,1] / float(ref))"
   ]
  },
  {
   "cell_type": "code",
   "execution_count": null,
   "metadata": {},
   "outputs": [],
   "source": [
    "# folderName = './'\n",
    "# mbid = '7d88c651-5dea-48e5-b21a-ac964cff5cad'\n",
    "# pitchTrackExtension = '.f0_fil.csv'\n",
    "\n",
    "# shahed = 332.67"
   ]
  },
  {
   "cell_type": "code",
   "execution_count": null,
   "metadata": {},
   "outputs": [],
   "source": [
    "pitchTrack = np.genfromtxt(os.path.join(folderName, mbid + pitchTrackExtension), delimiter=',')\n",
    "centsTrack = pitch2cents(pitchTrack, shahed)\n",
    "filteredTrack = centsTrack[np.logical_and(centsTrack >= minCent, centsTrack <= maxCent)]\n",
    "pitch_obj = intonation.Pitch(np.arange(len(filteredTrack)), filteredTrack)\n",
    "# pitch_obj = intonation.Pitch(np.arange(len(centsTrack)), centsTrack)\n",
    "rec_obj = intonation.Recording(pitch_obj)\n",
    "rec_obj.compute_hist()\n",
    "\n",
    "print(rec_obj.histogram.x)\n",
    "print(rec_obj.histogram.y)"
   ]
  },
  {
   "cell_type": "code",
   "execution_count": null,
   "metadata": {},
   "outputs": [],
   "source": [
    "histDic = {}\n",
    "\n",
    "for i in range(rec_obj.histogram.x.size):\n",
    "    # pos = '{:.2f}'.format(rec_obj.histogram.x[i])\n",
    "    x = round(rec_obj.histogram.x[i], 2)\n",
    "    y = round(rec_obj.histogram.y[i] * 10000, 2)\n",
    "    histDic[x] = y\n",
    "\n",
    "histMin = np.min(list(histDic.values()))\n",
    "histMax = np.max(list(histDic.values()))\n",
    "\n",
    "print(histMin, histMax)\n",
    "\n",
    "histList = []\n",
    "for k, v in histDic.items():\n",
    "    histList.append([k,v])\n",
    "\n",
    "hist2json = {'min': histMin, 'max': histMax, 'hist': histList}\n",
    "hist2json"
   ]
  },
  {
   "cell_type": "code",
   "execution_count": null,
   "metadata": {},
   "outputs": [],
   "source": [
    "pitchHistogramFolder = '../files/pitchHistograms'\n",
    "pitchHistogramExtension = '_pitchHistogram.json'\n",
    "\n",
    "json.dumps(hist2json)\n",
    "\n",
    "with open(os.path.join(pitchHistogramFolder, mbid + pitchHistogramExtension), 'w') as f:\n",
    "    json.dump(hist2json, f)"
   ]
  },
  {
   "cell_type": "code",
   "execution_count": null,
   "metadata": {},
   "outputs": [],
   "source": []
  },
  {
   "cell_type": "code",
   "execution_count": null,
   "metadata": {},
   "outputs": [],
   "source": []
  },
  {
   "cell_type": "code",
   "execution_count": null,
   "metadata": {},
   "outputs": [],
   "source": []
  }
 ],
 "metadata": {
  "kernelspec": {
   "display_name": "Python 3 (ipykernel)",
   "language": "python",
   "name": "python3"
  },
  "language_info": {
   "codemirror_mode": {
    "name": "ipython",
    "version": 3
   },
   "file_extension": ".py",
   "mimetype": "text/x-python",
   "name": "python",
   "nbconvert_exporter": "python",
   "pygments_lexer": "ipython3",
   "version": "3.12.1"
  }
 },
 "nbformat": 4,
 "nbformat_minor": 4
}
